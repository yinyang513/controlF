{
 "cells": [
  {
   "cell_type": "code",
   "execution_count": 2,
   "metadata": {},
   "outputs": [],
   "source": [
    "import pytube\n",
    "import requests"
   ]
  },
  {
   "cell_type": "code",
   "execution_count": 3,
   "metadata": {},
   "outputs": [
    {
     "name": "stdout",
     "output_type": "stream",
     "text": [
      "YouTube URL: \n",
      "https://www.youtube.com/watch?v=mH0_XpSHkZo\n"
     ]
    }
   ],
   "source": [
    "print(\"YouTube URL: \")\n",
    "url = input()\n"
   ]
  },
  {
   "cell_type": "code",
   "execution_count": 4,
   "metadata": {},
   "outputs": [
    {
     "name": "stdout",
     "output_type": "stream",
     "text": [
      "Word to Find:\n",
      "more\n"
     ]
    }
   ],
   "source": [
    "print(\"Word to Find:\")\n",
    "word = input()"
   ]
  },
  {
   "cell_type": "code",
   "execution_count": 5,
   "metadata": {},
   "outputs": [],
   "source": [
    "yt = pytube.YouTube(url)"
   ]
  },
  {
   "cell_type": "code",
   "execution_count": 6,
   "metadata": {},
   "outputs": [
    {
     "name": "stderr",
     "output_type": "stream",
     "text": [
      "/Users/hink_pink/opt/anaconda3/lib/python3.7/site-packages/ipykernel_launcher.py:1: DeprecationWarning: Call to deprecated function get_by_language_code (This object can be treated as a dictionary, i.e. captions['en']).\n",
      "  \"\"\"Entry point for launching an IPython kernel.\n"
     ]
    }
   ],
   "source": [
    "subt = yt.captions.get_by_language_code(\"en\")"
   ]
  },
  {
   "cell_type": "code",
   "execution_count": 7,
   "metadata": {},
   "outputs": [],
   "source": [
    "sub = subt.generate_srt_captions().lower()"
   ]
  },
  {
   "cell_type": "code",
   "execution_count": 8,
   "metadata": {},
   "outputs": [],
   "source": [
    "subtitles = sub.split('\\n')"
   ]
  },
  {
   "cell_type": "code",
   "execution_count": 9,
   "metadata": {
    "scrolled": false
   },
   "outputs": [],
   "source": [
    "for x in range(len(subtitles)):\n",
    "    subtitles[x] = subtitles[x].split(\" \")"
   ]
  },
  {
   "cell_type": "code",
   "execution_count": 10,
   "metadata": {},
   "outputs": [],
   "source": [
    "time_stamps = []"
   ]
  },
  {
   "cell_type": "code",
   "execution_count": 11,
   "metadata": {},
   "outputs": [],
   "source": [
    "for x in range(len(subtitles)):\n",
    "    for j in range(len(subtitles[x])):\n",
    "        if subtitles[x][j] == word:\n",
    "            time_stamps.append(subtitles[x - 1][0][:-4])"
   ]
  },
  {
   "cell_type": "code",
   "execution_count": 12,
   "metadata": {},
   "outputs": [
    {
     "name": "stdout",
     "output_type": "stream",
     "text": [
      "Here are your time stamps:\n",
      "00:01:06\n",
      "00:01:10\n",
      "00:01:14\n",
      "00:01:15\n",
      "00:01:19\n",
      "00:01:23\n",
      "00:01:29\n",
      "00:01:31\n",
      "00:01:38\n",
      "00:01:41\n",
      "00:02:16\n",
      "00:02:18\n",
      "00:02:22\n",
      "00:02:25\n",
      "00:02:27\n",
      "00:02:31\n",
      "00:02:34\n",
      "00:02:40\n",
      "00:02:43\n",
      "00:02:50\n",
      "00:02:52\n",
      "00:03:15\n",
      "00:03:28\n",
      "00:03:35\n",
      "00:03:37\n",
      "00:03:43\n",
      "00:03:46\n"
     ]
    }
   ],
   "source": [
    "if not time_stamps:\n",
    "    print(\"Sorry! We could not find your word. :(\")\n",
    "else:\n",
    "    print(\"Here are your time stamps:\")\n",
    "    print('\\n'.join(list(dict.fromkeys(time_stamps))))"
   ]
  },
  {
   "cell_type": "code",
   "execution_count": null,
   "metadata": {},
   "outputs": [],
   "source": [
    "response"
   ]
  }
 ],
 "metadata": {
  "kernelspec": {
   "display_name": "Python 3",
   "language": "python",
   "name": "python3"
  },
  "language_info": {
   "codemirror_mode": {
    "name": "ipython",
    "version": 3
   },
   "file_extension": ".py",
   "mimetype": "text/x-python",
   "name": "python",
   "nbconvert_exporter": "python",
   "pygments_lexer": "ipython3",
   "version": "3.7.6"
  }
 },
 "nbformat": 4,
 "nbformat_minor": 4
}
